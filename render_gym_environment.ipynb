{
 "cells": [
  {
   "cell_type": "markdown",
   "id": "323fde4c-b1c4-4775-86dc-8b4f3477a324",
   "metadata": {},
   "source": [
    "# OpenAi Gym rendering in WSL with Xming"
   ]
  },
  {
   "cell_type": "markdown",
   "id": "a35adb14-5cec-4dac-9d48-42896284f138",
   "metadata": {},
   "source": [
    "This notebook shows how to render OpenAi gym videos on WSL with an Xming server"
   ]
  },
  {
   "cell_type": "markdown",
   "id": "16007254-6857-44a8-8c2e-4dfa18e0b97c",
   "metadata": {},
   "source": [
    "in your virtual env, run:  \n",
    "\t- sudo apt-get install python-opengl  \n",
    "\t- sudo apt-get install x11-apps  \n",
    "\t- sudo apt-get update && sudo apt-get install libopenmpi-dev  \n",
    "\t-  sudo apt-get install gnome-calculator  \n",
    "\n",
    "install xming from here:\n",
    "https://sourceforge.net/projects/xming/files/latest/download  \n",
    "do the firewall rules from here: https://github.com/cascadium/wsl-windows-toolbar-launcher#firewall-rules\n",
    "\n",
    "In windows powershell:\n",
    "\n",
    "\t- (ipconfig | Select-String -Pattern 'WSL' -Context 1, 5).Context.PostContext | Select-String -Pattern 'IPv4'\n",
    "\t- copy the displayed ip\n",
    "    \n",
    "in wsl:  \n",
    "\t-  sudo ssh-keygen -A  \n",
    "\t- sudo service ssh start\n",
    "    \n",
    "open xlaunch  \n",
    "select one window  \n",
    "Check No Access Control  \n",
    "\n",
    "    \n",
    "    "
   ]
  },
  {
   "cell_type": "code",
   "execution_count": 5,
   "id": "60b8f098-3e9c-4864-be23-fdf1e84a8001",
   "metadata": {},
   "outputs": [
    {
     "name": "stdout",
     "output_type": "stream",
     "text": [
      "Episode finished after 20 timesteps\n",
      "Episode finished after 17 timesteps\n",
      "Episode finished after 25 timesteps\n",
      "Episode finished after 22 timesteps\n",
      "Episode finished after 24 timesteps\n",
      "Episode finished after 17 timesteps\n",
      "Episode finished after 31 timesteps\n",
      "Episode finished after 93 timesteps\n",
      "Episode finished after 23 timesteps\n",
      "Episode finished after 24 timesteps\n",
      "Episode finished after 18 timesteps\n",
      "Episode finished after 23 timesteps\n",
      "Episode finished after 34 timesteps\n",
      "Episode finished after 39 timesteps\n",
      "Episode finished after 17 timesteps\n",
      "Episode finished after 19 timesteps\n",
      "Episode finished after 26 timesteps\n",
      "Episode finished after 19 timesteps\n",
      "Episode finished after 25 timesteps\n",
      "Episode finished after 29 timesteps\n"
     ]
    }
   ],
   "source": [
    "import gym\n",
    "# !export DISPLAY=<copy displayed ip here and uncomment>.1:0.0\n",
    "env = gym.make('CartPole-v0')\n",
    "for i_episode in range(20):\n",
    "    observation = env.reset()\n",
    "    for t in range(100):\n",
    "        env.render()\n",
    "        action = env.action_space.sample()\n",
    "        observation, reward, done, info = env.step(action)\n",
    "        if done:\n",
    "            print(\"Episode finished after {} timesteps\".format(t+1))\n",
    "            break\n",
    "env.close()"
   ]
  }
 ],
 "metadata": {
  "kernelspec": {
   "display_name": "gym",
   "language": "python",
   "name": "gym"
  },
  "language_info": {
   "codemirror_mode": {
    "name": "ipython",
    "version": 3
   },
   "file_extension": ".py",
   "mimetype": "text/x-python",
   "name": "python",
   "nbconvert_exporter": "python",
   "pygments_lexer": "ipython3",
   "version": "3.6.9"
  }
 },
 "nbformat": 4,
 "nbformat_minor": 5
}
