{
  "nbformat": 4,
  "nbformat_minor": 0,
  "metadata": {
    "colab": {
      "name": "Untitled2.ipynb",
      "provenance": [],
      "collapsed_sections": [],
      "authorship_tag": "ABX9TyNtY4cK9t+YJGTmroeE4In5",
      "include_colab_link": true
    },
    "kernelspec": {
      "name": "python3",
      "display_name": "Python 3"
    },
    "language_info": {
      "name": "python"
    }
  },
  "cells": [
    {
      "cell_type": "markdown",
      "metadata": {
        "id": "view-in-github",
        "colab_type": "text"
      },
      "source": [
        "<a href=\"https://colab.research.google.com/github/alexandrasouly/RL_implementations/blob/master/Google%20Colab%20rendering.ipynb\" target=\"_parent\"><img src=\"https://colab.research.google.com/assets/colab-badge.svg\" alt=\"Open In Colab\"/></a>"
      ]
    },
    {
      "cell_type": "markdown",
      "metadata": {
        "id": "P7phWbLBAdWc"
      },
      "source": [
        "# Gym rendering in Google Colab "
      ]
    },
    {
      "cell_type": "markdown",
      "metadata": {
        "id": "XdDKwWi1AGGI"
      },
      "source": [
        "This notebook demonstrates rendering the episodes from OpenAI Gym environments, and allows the rendered episodes to be saved along with the batch statistics in a Google Colab notebook.\n",
        "\n",
        "Works as of 25/07/2021"
      ]
    },
    {
      "cell_type": "code",
      "metadata": {
        "colab": {
          "base_uri": "https://localhost:8080/",
          "height": 479
        },
        "id": "VFW2Vk0d7rTv",
        "outputId": "f82271c8-7266-460b-8d45-42abbdc93322"
      },
      "source": [
        "import gym\n",
        "from IPython import display\n",
        "!apt-get install -y xvfb x11-utils > /dev/null\n",
        "!pip install pyvirtualdisplay\n",
        "from pyvirtualdisplay import Display\n",
        "import matplotlib.pyplot as plt\n",
        "from time import time\n",
        "\n",
        "d = Display()\n",
        "d.start()\n",
        "from gym import wrappers\n",
        "env = gym.make('CartPole-v1')\n",
        "env = wrappers.Monitor(env, './videos/' + str(time()) + '/', force = True, write_upon_reset=True, video_callable=lambda episode_id: episode_id%2==0)\n",
        "o = env.reset()\n",
        "\n",
        "img = plt.imshow(env.render('rgb_array'))\n",
        "for _ in range(100):\n",
        "    o, r, d, i = env.step(env.action_space.sample()) # Take action from DNN in actual training\n",
        "    display.clear_output(wait=True)\n",
        "    img.set_data(env.render('rgb_array'))\n",
        "    plt.axis('off')\n",
        "    display.display(plt.gcf())\n",
        "\n",
        "    if d:\n",
        "        env.reset()"
      ],
      "execution_count": 7,
      "outputs": [
        {
          "output_type": "display_data",
          "data": {
            "image/png": "[encoded data removed]",
            "text/plain": [
              "<Figure size 432x288 with 1 Axes>"
            ]
          },
          "metadata": {
            "tags": []
          }
        },
        {
          "output_type": "display_data",
          "data": {
            "image/png": "[encoded data removed]",
            "text/plain": [
              "<Figure size 432x288 with 1 Axes>"
            ]
          },
          "metadata": {
            "tags": [],
            "needs_background": "light"
          }
        }
      ]
    }
  ]
}